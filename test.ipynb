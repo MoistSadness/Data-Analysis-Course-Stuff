{
 "cells": [
  {
   "cell_type": "markdown",
   "id": "40c61a10-3990-4328-8649-0bc915e0d121",
   "metadata": {
    "tags": []
   },
   "source": [
    "### This is a test to get an idea of how Jupyter notebooks works\n",
    "It seems like a great way to add documenation to python code."
   ]
  },
  {
   "cell_type": "code",
   "execution_count": 29,
   "id": "11615401-3bca-4ec0-8ce6-e8ea635cf485",
   "metadata": {},
   "outputs": [
    {
     "data": {
      "text/plain": [
       "10"
      ]
     },
     "execution_count": 29,
     "metadata": {},
     "output_type": "execute_result"
    }
   ],
   "source": [
    "x = 4\n",
    "y = x + 6\n",
    "y"
   ]
  }
 ],
 "metadata": {
  "kernelspec": {
   "display_name": "Python 3 (ipykernel)",
   "language": "python",
   "name": "python3"
  },
  "language_info": {
   "codemirror_mode": {
    "name": "ipython",
    "version": 3
   },
   "file_extension": ".py",
   "mimetype": "text/x-python",
   "name": "python",
   "nbconvert_exporter": "python",
   "pygments_lexer": "ipython3",
   "version": "3.9.7"
  }
 },
 "nbformat": 4,
 "nbformat_minor": 5
}
